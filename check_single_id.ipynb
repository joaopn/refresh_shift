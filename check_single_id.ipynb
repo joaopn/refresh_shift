{
 "cells": [
  {
   "cell_type": "code",
   "execution_count": null,
   "metadata": {},
   "outputs": [],
   "source": [
    "import json\n",
    "import praw\n",
    "\n",
    "def check_submission(submission_id, authfile = 'auth/AUTH.json'):\n",
    "    with open(authfile) as f:\n",
    "        AUTH = json.load(f)\n",
    "\n",
    "    reddit = praw.Reddit(client_id=AUTH['client_id'], \n",
    "                         client_secret=AUTH['client_secret'],\n",
    "                         user_agent=AUTH['user_agent'])\n",
    "    \n",
    "    submission = reddit.submission(id=submission_id)\n",
    "\n",
    "    print(f\"Title: {submission.title}\")\n",
    "    print(f\"Author: {submission.author}\")\n",
    "    print(f\"Score: {submission.score}\")\n",
    "    print(f\"Number of Comments: {submission.num_comments}\")\n",
    "    print(f\"URL: {submission.url}\")\n",
    "    print(f\"Created (UTC): {submission.created_utc}\")\n",
    "\n",
    "    return submission"
   ]
  },
  {
   "cell_type": "code",
   "execution_count": null,
   "metadata": {},
   "outputs": [],
   "source": []
  }
 ],
 "metadata": {
  "language_info": {
   "name": "python"
  }
 },
 "nbformat": 4,
 "nbformat_minor": 2
}
